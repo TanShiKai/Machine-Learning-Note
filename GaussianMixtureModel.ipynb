{
 "cells": [
  {
   "cell_type": "markdown",
   "metadata": {},
   "source": [
    "GMM的模型构成为：\n",
    "p(x)=∑_j^m▒〖p(x│z=j)p(z=j)〗\n",
    "x|z=j ~ N(u_j, Σ_j)，m个高斯分布，u_j, Σ_j 分别为每个高斯分布的均值和标准差\n",
    "z ~ Multinomial(ϕ)，多项分布，\n",
    "x是observed variables，z是latent variables\n",
    "\n",
    "模型通过EM算法进行优化求解参数的最优值。\n",
    "将模型拟合后，可以得到模型的各个最优参数值。\n",
    "\n",
    "模型包含1个超参数：\n",
    "m, Gaussian的个数 对应sklearn API 的 n_components\n"
   ]
  },
  {
   "cell_type": "markdown",
   "metadata": {},
   "source": [
    "先用1维数据有个直观理解"
   ]
  },
  {
   "cell_type": "code",
   "execution_count": 4,
   "metadata": {},
   "outputs": [],
   "source": [
    "import matplotlib as mpl\n",
    "import matplotlib.pyplot as plt\n",
    "% matplotlib inline\n",
    "mpl.rcParams['font.sans-serif'] = ['SimHei']\n",
    "mpl.rcParams['axes.unicode_minus'] = False\n",
    "import numpy as np\n",
    "from sklearn.datasets import make_blobs\n"
   ]
  },
  {
   "cell_type": "code",
   "execution_count": 23,
   "metadata": {},
   "outputs": [
    {
     "data": {
      "text/plain": [
       "GaussianMixture(covariance_type='full', init_params='kmeans', max_iter=100,\n",
       "                means_init=None, n_components=5, n_init=10,\n",
       "                precisions_init=None, random_state=None, reg_covar=1e-06,\n",
       "                tol=0.001, verbose=0, verbose_interval=10, warm_start=False,\n",
       "                weights_init=None)"
      ]
     },
     "execution_count": 23,
     "metadata": {},
     "output_type": "execute_result"
    }
   ],
   "source": [
    "X, y = make_blobs(n_samples=1500,\n",
    "                  centers=((-10, ), (-5, ), (0, ), (5, ), (10, )),\n",
    "                  cluster_std=5.0,\n",
    "                  random_state=42)\n",
    "\n",
    "from sklearn.mixture import GaussianMixture\n",
    "gm = GaussianMixture(n_components=5, n_init=10)\n",
    "gm.fit(X)\n",
    "\n"
   ]
  },
  {
   "cell_type": "code",
   "execution_count": 24,
   "metadata": {},
   "outputs": [
    {
     "data": {
      "text/plain": [
       "(array([[-13.40268786],\n",
       "        [  6.03655667],\n",
       "        [ 12.58448147],\n",
       "        [ -7.26348915],\n",
       "        [ -0.98889158]]),)"
      ]
     },
     "execution_count": 24,
     "metadata": {},
     "output_type": "execute_result"
    }
   ],
   "source": [
    "gm.means_, "
   ]
  },
  {
   "cell_type": "code",
   "execution_count": 25,
   "metadata": {},
   "outputs": [
    {
     "data": {
      "text/plain": [
       "array([[[10.87720309]],\n",
       "\n",
       "       [[ 7.96126756]],\n",
       "\n",
       "       [[15.18789081]],\n",
       "\n",
       "       [[ 5.95358358]],\n",
       "\n",
       "       [[ 6.68288732]]])"
      ]
     },
     "execution_count": 25,
     "metadata": {},
     "output_type": "execute_result"
    }
   ],
   "source": [
    "gm.covariances_"
   ]
  },
  {
   "cell_type": "code",
   "execution_count": 26,
   "metadata": {},
   "outputs": [],
   "source": [
    "pdf = gm.score_samples\n",
    "p = np.exp(pdf(X))"
   ]
  },
  {
   "cell_type": "code",
   "execution_count": 27,
   "metadata": {},
   "outputs": [
    {
     "data": {
      "image/png": "[encoded data removed]",
      "text/plain": [
       "<Figure size 432x288 with 1 Axes>"
      ]
     },
     "metadata": {
      "needs_background": "light"
     },
     "output_type": "display_data"
    }
   ],
   "source": [
    "# fig = plt.figure()\n",
    "# ax = fig.add_subplot(111)\n",
    "def plot_point_1dim(X, p):\n",
    "    fig = plt.figure()\n",
    "    ax = fig.add_subplot(111)\n",
    "    hist = ax.hist(X, bins=250, rwidth=1.0, density=True, label='实际值')\n",
    "    ax.plot(X[:, 0], p, 'r.', label='估计值')\n",
    "    ax.legend()\n",
    "plot_point_1dim(X, p)"
   ]
  },
  {
   "cell_type": "markdown",
   "metadata": {},
   "source": [
    "二维数据，  \n",
    "生成数据"
   ]
  },
  {
   "cell_type": "code",
   "execution_count": 28,
   "metadata": {},
   "outputs": [],
   "source": [
    "X1, y1 = make_blobs(n_samples=1000, centers=((4, -4), (0, 0)), cluster_std=1.0, random_state=42)\n",
    "# X1 = X1.dot(np.array([[0.374, 0.95], [0.732, 0.598]]))\n",
    "X2, y2 = make_blobs(n_samples=250, centers=((6, -8), ), cluster_std=1.0, random_state=42)\n",
    "X = np.r_[X1, X2]\n",
    "y = np.r_[y1, y2]"
   ]
  },
  {
   "cell_type": "markdown",
   "metadata": {},
   "source": [
    "X1的feature数目为2，内含2个cluster，std均为1.0，中心点坐标为："
   ]
  },
  {
   "cell_type": "code",
   "execution_count": 29,
   "metadata": {},
   "outputs": [
    {
     "name": "stdout",
     "output_type": "stream",
     "text": [
      "[[ 4 -4]\n",
      " [ 0  0]]\n"
     ]
    }
   ],
   "source": [
    "# center1 = np.array(((10, -10), (0, 0))) @ np.array([[0.374, 0.95], [0.732, 0.598]])\n",
    "center1 = np.array(((4, -4), (0, 0)))\n",
    "print(center1)"
   ]
  },
  {
   "cell_type": "markdown",
   "metadata": {},
   "source": [
    "X2的feature数目为2，内含1个cluster，std为1.0，中心点坐标为："
   ]
  },
  {
   "cell_type": "code",
   "execution_count": 30,
   "metadata": {},
   "outputs": [
    {
     "data": {
      "text/plain": [
       "array([[ 6, -8]])"
      ]
     },
     "execution_count": 30,
     "metadata": {},
     "output_type": "execute_result"
    }
   ],
   "source": [
    "center2 = np.array((6, -8))[np.newaxis, :]\n",
    "center2"
   ]
  },
  {
   "cell_type": "code",
   "execution_count": 31,
   "metadata": {},
   "outputs": [
    {
     "data": {
      "text/plain": [
       "(<Figure size 432x288 with 1 Axes>,\n",
       " <matplotlib.axes._subplots.AxesSubplot at 0x199210e0240>,\n",
       " [<matplotlib.lines.Line2D at 0x199217a5eb8>])"
      ]
     },
     "execution_count": 31,
     "metadata": {},
     "output_type": "execute_result"
    },
    {
     "data": {
      "image/png": "[encoded data removed]",
      "text/plain": [
       "<Figure size 432x288 with 1 Axes>"
      ]
     },
     "metadata": {
      "needs_background": "light"
     },
     "output_type": "display_data"
    }
   ],
   "source": [
    "def plot_point(X):\n",
    "    fig = plt.figure()\n",
    "    ax = fig.add_subplot(111)\n",
    "    point = ax.plot(X[:, 0], X[:, 1], '.')\n",
    "    return fig, ax, point\n",
    "plot_point(X)"
   ]
  },
  {
   "cell_type": "code",
   "execution_count": 32,
   "metadata": {},
   "outputs": [
    {
     "data": {
      "text/plain": [
       "GaussianMixture(covariance_type='full', init_params='kmeans', max_iter=100,\n",
       "                means_init=None, n_components=3, n_init=10,\n",
       "                precisions_init=None, random_state=None, reg_covar=1e-06,\n",
       "                tol=0.001, verbose=0, verbose_interval=10, warm_start=False,\n",
       "                weights_init=None)"
      ]
     },
     "execution_count": 32,
     "metadata": {},
     "output_type": "execute_result"
    }
   ],
   "source": [
    "from sklearn.mixture import GaussianMixture\n",
    "gm = GaussianMixture(n_components=3, n_init=10)\n",
    "gm.fit(X)"
   ]
  },
  {
   "cell_type": "markdown",
   "metadata": {},
   "source": [
    "ϕ 求解为每一个mixture component的sample所占比例"
   ]
  },
  {
   "cell_type": "code",
   "execution_count": 33,
   "metadata": {},
   "outputs": [
    {
     "data": {
      "text/plain": [
       "array([0.40262035, 0.39943904, 0.19794061])"
      ]
     },
     "execution_count": 33,
     "metadata": {},
     "output_type": "execute_result"
    }
   ],
   "source": [
    "gm.weights_ "
   ]
  },
  {
   "cell_type": "markdown",
   "metadata": {},
   "source": [
    "可以求出每个高斯分布的均值和标准差，可以看到跟数据实际的均值和方差很接近了"
   ]
  },
  {
   "cell_type": "code",
   "execution_count": 34,
   "metadata": {},
   "outputs": [
    {
     "data": {
      "text/plain": [
       "array([[ 4.00782288, -3.97084737],\n",
       "       [ 0.06065443,  0.08100889],\n",
       "       [ 6.00791078, -8.0115578 ]])"
      ]
     },
     "execution_count": 34,
     "metadata": {},
     "output_type": "execute_result"
    }
   ],
   "source": [
    "gm.means_"
   ]
  },
  {
   "cell_type": "code",
   "execution_count": 35,
   "metadata": {},
   "outputs": [
    {
     "data": {
      "text/plain": [
       "array([[[ 0.95146257, -0.03923598],\n",
       "        [-0.03923598,  1.01185461]],\n",
       "\n",
       "       [[ 0.90947639,  0.03096828],\n",
       "        [ 0.03096828,  1.07346461]],\n",
       "\n",
       "       [[ 0.99184045,  0.00795452],\n",
       "        [ 0.00795452,  0.87050362]]])"
      ]
     },
     "execution_count": 35,
     "metadata": {},
     "output_type": "execute_result"
    }
   ],
   "source": [
    "gm.covariances_"
   ]
  },
  {
   "cell_type": "markdown",
   "metadata": {},
   "source": [
    "求解总体的p(x)（实际求的是log⁡(p(x)）"
   ]
  },
  {
   "cell_type": "code",
   "execution_count": 36,
   "metadata": {},
   "outputs": [
    {
     "data": {
      "text/plain": [
       "(array([-3.36019678, -4.31444778, -4.10279794, ..., -3.91862219,\n",
       "        -4.05836577, -3.51580706]),\n",
       " array([0.03472842, 0.01337393, 0.01652637, ..., 0.01986845, 0.01727723,\n",
       "        0.0297238 ]))"
      ]
     },
     "execution_count": 36,
     "metadata": {},
     "output_type": "execute_result"
    }
   ],
   "source": [
    "pdf = gm.score_samples\n",
    "pdf(X), np.exp(pdf(X))"
   ]
  },
  {
   "cell_type": "markdown",
   "metadata": {},
   "source": [
    "这是3个中心点的pdf"
   ]
  },
  {
   "cell_type": "code",
   "execution_count": 37,
   "metadata": {},
   "outputs": [
    {
     "data": {
      "text/plain": [
       "(array([0.06532966, 0.06405518]), array([0.03390502]))"
      ]
     },
     "execution_count": 37,
     "metadata": {},
     "output_type": "execute_result"
    }
   ],
   "source": [
    "np.exp(pdf(center1)), np.exp(pdf(center2))"
   ]
  },
  {
   "attachments": {},
   "cell_type": "markdown",
   "metadata": {},
   "source": [
    "主要参考资料：  \n",
    "《Hands-on Machine Learning with Scikit-Learn, Keras, and TensorFlow》9.2  \n",
    "Andrew Ng CS229-LN7b"
   ]
  },
  {
   "cell_type": "code",
   "execution_count": null,
   "metadata": {},
   "outputs": [],
   "source": []
  }
 ],
 "metadata": {
  "kernelspec": {
   "display_name": "Python 3.7.0 64-bit ('base': conda)",
   "language": "python",
   "name": "python37064bitbasecondae0ae9b4e34c24d229c7dcdc88084d2dd"
  },
  "language_info": {
   "codemirror_mode": {
    "name": "ipython",
    "version": 3
   },
   "file_extension": ".py",
   "mimetype": "text/x-python",
   "name": "python",
   "nbconvert_exporter": "python",
   "pygments_lexer": "ipython3",
   "version": "3.7.0"
  }
 },
 "nbformat": 4,
 "nbformat_minor": 2
}
